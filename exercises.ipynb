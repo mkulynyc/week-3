{
 "cells": [
  {
   "cell_type": "markdown",
   "id": "0dead82f",
   "metadata": {},
   "source": [
    "<font color='darkred'> Unless otherwise noted, **this notebook will not be reviewed or autograded.**</font> You are welcome to use it for scratchwork, but **only the files listed in the exercises will be checked.**\n",
    "\n",
    "---\n",
    "\n",
    "# Exercises\n",
    "\n",
    "For these exercises, add your functions to the *apputil\\.py* file. If you like, you're welcome to adjust the *app\\.py* file, but it is not required."
   ]
  },
  {
   "cell_type": "markdown",
   "id": "a7ef09a6",
   "metadata": {},
   "source": [
    "## Notes on Recursion\n",
    "\n",
    "A [recursive function](https://www.w3schools.com/python/gloss_python_function_recursion.asp) is one which calls itself.\n",
    "\n",
    "1. When the function is called, your CPU runs through each line of code until the function needs to be called again.\n",
    "2. At that point, all variables are saved in memory, and the function runs through each line of code again until the function is called (again, but with a different passed argument), and so on.\n",
    "3. Eventually, this process will stop at the \"bottom of the **stack**\", where the function doesn't get a chance to call itself again (likely because of some condition un/met by the latest passed argument).\n",
    "4. Then, your CPU will work its way back up the stack to the final result. For example, take a look at [this visual example](https://realpython.com/python-recursion/#calculate-factorial) of calculating 4!.\n",
    "\n",
    "When you write these functions, keep two things in mind:\n",
    "\n",
    "- You will need a built-in stopping point (i.e., the \"bottom\"), where your function returns some result before it calls itself.\n",
    "- **Don't think too hard about this.** Recursion can be perplexing to conceptualize when writing the code. So, when you call the function inside the function, think about it as a magical \"hidden\" function that has already done what you want it to do.\n",
    "- [Python Tutor](https://pythontutor.com/) ([editor](https://pythontutor.com/visualize.html#mode=edit)) can be a helpful resource for this exercise!\n",
    "\n",
    "## Exercise 1\n",
    "\n",
    "The Fibonacci Series starts with 0 and 1. Each of the following numbers are the sum of the previous two numbers in the series:\n",
    "\n",
    "`0 1 1 2 3 5 8 13 21 34 ...`\n",
    "\n",
    "So, `fib(9) = 34`.\n",
    "\n",
    "Write a recursive function (`fib`) that, given `n`, will return the `n`th number of the Fibonacci Series.\n",
    "\n",
    "*Test your function using Google or any other tool that can calculate the Fibonacci Series.*"
   ]
  },
  {
   "cell_type": "code",
   "execution_count": 1,
   "id": "10b9210f",
   "metadata": {},
   "outputs": [
    {
     "data": {
      "text/plain": [
       "8"
      ]
     },
     "execution_count": 1,
     "metadata": {},
     "output_type": "execute_result"
    }
   ],
   "source": [
    "\"\"\"\n",
    "This function recursively calculates the nth Fibonacci number.\n",
    "\n",
    "Arguments:\n",
    "- n: An integer representing the position in the Fibonacci sequence.\n",
    "\n",
    "Returns:\n",
    "- The nth Fibonacci number.\n",
    "\"\"\"\n",
    "def fib(n):\n",
    "    # Return 0 if n is 0\n",
    "    if n <= 0:\n",
    "        return 0\n",
    "    \n",
    "    # Return 1 if n is 1 (1st Fibonacci number)\n",
    "    elif n == 1:\n",
    "        return 1\n",
    "    \n",
    "    # Otherwise, return the sum of the 2 preceding Fibonacci numbers recursively\n",
    "    else:\n",
    "        return fib(n - 1) + fib(n - 2)\n",
    "    \n",
    "\n",
    "# Example usage\n",
    "fib(6) # Should return 8\n",
    "    "
   ]
  },
  {
   "cell_type": "markdown",
   "id": "4bef64e9",
   "metadata": {},
   "source": [
    "\n",
    "## Exercise 2\n",
    "\n",
    "Write a (single) recursive function, `to_binary()`, that [converts](https://en.wikipedia.org/wiki/Binary_number#Conversion_to_and_from_other_numeral_systems) an integer into its [binary](https://en.wikipedia.org/wiki/Binary_number) representation. So, for example:\n",
    "\n",
    "```python\n",
    "to_binary(2)   -->  10\n",
    "to_binary(12)  -->  1100\n",
    "```\n",
    "\n",
    "*Note: you can test your function with the built in `bin()` function.*"
   ]
  },
  {
   "cell_type": "code",
   "execution_count": null,
   "id": "eb033460",
   "metadata": {},
   "outputs": [
    {
     "data": {
      "text/plain": [
       "'10000'"
      ]
     },
     "execution_count": 3,
     "metadata": {},
     "output_type": "execute_result"
    }
   ],
   "source": [
    "\"\"\"\n",
    "Exercise 2: Integer to Binary conversion\n",
    "\n",
    "This to_binary(x) function recursively converts an integer to binary\n",
    "\n",
    "Arguments: \n",
    "- x: An integer to be converted to binary.\n",
    "\n",
    "Returns:\n",
    "- A string representing the binary equivalent of the integer.\n",
    "\"\"\"\n",
    "\n",
    "def to_binary(x):\n",
    "    # Base case 1: if x is 0, return 0\n",
    "    if x == 0:\n",
    "        return \"0\"\n",
    "    \n",
    "    # Base case 2: if x is 1, return 1\n",
    "    elif x == 1:\n",
    "        return \"1\"\n",
    "    \n",
    "    # Recursive case: integer divide x by 2 and append the remainder of x divided by 2\n",
    "    else:\n",
    "        return to_binary(x // 2) + str(x % 2)\n",
    "    \n",
    "\n",
    "# Example usage\n",
    "to_binary(16) # Should return \"10000\""
   ]
  },
  {
   "cell_type": "markdown",
   "id": "dd991538",
   "metadata": {},
   "source": [
    "## Exercise 3 \n",
    "\n",
    "Use the raw Bellevue Almshouse Dataset (`df_bellevue`) extracted at the top of the lab (i.e., with `pd.read_csv ...`).\n",
    "\n",
    "**Write a function for each of the following tasks. Name these functions `task_i()`** (i.e., without any input arguments).\n",
    "\n",
    "1. Return a list of all column names, *sorted* such that the first column has the *least* missing values, and the last column has the *most* missing values (use the raw column names).\n",
    "   - *Note: there is an issue with the `gender` column you'll need to remedy first ...*\n",
    "2. Return a **data frame** with two columns:\n",
    "   - the year (for each year in the data), `year`\n",
    "   - the total number of entries (immigrant admissions) for each year, `total_admissions`\n",
    "3. Return a **series** with:\n",
    "   - Index: gender (for each gender in the data)\n",
    "   - Values: the average age for the indexed gender.\n",
    "4. Return a list of the 5 most common professions *in order of prevalence* (so, the most common is first).\n",
    "\n",
    "For each of these, if there are messy data issues, use the `print` statement to explain.\n"
   ]
  },
  {
   "cell_type": "code",
   "execution_count": 11,
   "id": "db8eabf4",
   "metadata": {},
   "outputs": [
    {
     "name": "stdout",
     "output_type": "stream",
     "text": [
      "I utilized the pandas groupby function to group the data by the gender, then calculated the mean for each\n"
     ]
    },
    {
     "data": {
      "text/plain": [
       "gender\n",
       "?          NaN\n",
       "g    59.000000\n",
       "h    56.000000\n",
       "m    31.813433\n",
       "w    28.725162\n",
       "Name: age, dtype: float64"
      ]
     },
     "execution_count": 11,
     "metadata": {},
     "output_type": "execute_result"
    }
   ],
   "source": [
    "### Return a series with the index is the gender for each gender in the data and the values are the average age\n",
    "import pandas as pd\n",
    "\n",
    "def task_3():\n",
    "    \"\"\"\n",
    "    This function returns a series with the average age for each gender listed in the dataset.\n",
    "    It first groups the data by gender, then calculates the mean age for each group.\n",
    "\n",
    "    Arguments:\n",
    "    - None\n",
    "\n",
    "    Returns:\n",
    "    - A series with the average age for each gender.\n",
    "\n",
    "    \"\"\"\n",
    "\n",
    "    # Load the dataset\n",
    "    url = 'https://github.com/melaniewalsh/Intro-Cultural-Analytics/raw/master/book/data/bellevue_almshouse_modified.csv'\n",
    "    df_bellevue = pd.read_csv(url)\n",
    "\n",
    "    # Group the DF by gender and calculate the mean age for each    \n",
    "    avg_ages = df_bellevue.groupby('gender')['age'].mean()\n",
    "    print(\"I utilized the pandas groupby function to group the data by the gender, \" \\\n",
    "            \"then calculated the mean for each\")\n",
    "    return(avg_ages)\n",
    "\n",
    "\n",
    "task_3()\n"
   ]
  },
  {
   "cell_type": "code",
   "execution_count": 28,
   "id": "5993ce51",
   "metadata": {},
   "outputs": [
    {
     "name": "stdout",
     "output_type": "stream",
     "text": [
      "Missing gender data was stored as ?, g, or h. These have been replaced with NaN\n"
     ]
    },
    {
     "data": {
      "text/plain": [
       "['date_in',\n",
       " 'last_name',\n",
       " 'first_name',\n",
       " 'gender',\n",
       " 'age',\n",
       " 'profession',\n",
       " 'disease',\n",
       " 'children']"
      ]
     },
     "execution_count": 28,
     "metadata": {},
     "output_type": "execute_result"
    }
   ],
   "source": [
    "import pandas as pd\n",
    "import numpy as np\n",
    "\n",
    "\n",
    "def task_1():\n",
    "    \"\"\"\n",
    "    This function returns a list of the column names in the dataframe \n",
    "    sorted by the number of missing values (NA) in each column, from least to most.\n",
    "    It first fixes the issue in the gender column on how missing data was stored.\n",
    "\n",
    "    Arguments:\n",
    "    - None\n",
    "\n",
    "    Returns:\n",
    "    - A sorted list of column names based on the number of missing values.\n",
    "    \n",
    "    \"\"\"\n",
    "    # Load the dataset\n",
    "    url = 'https://github.com/melaniewalsh/Intro-Cultural-Analytics/raw/master/book/data/bellevue_almshouse_modified.csv'\n",
    "    df_bellevue = pd.read_csv(url)\n",
    "\n",
    "\n",
    "    # Filter for the rows where gender should be missing\n",
    "    gender_filter = (df_bellevue['gender'] == '?') | \\\n",
    "                    (df_bellevue['gender'] == 'g') | \\\n",
    "                    (df_bellevue['gender'] == 'h') \n",
    "\n",
    "    # Replace the incorrect values with NaN\n",
    "    df_bellevue.loc[gender_filter, 'gender'] = np.nan\n",
    "\n",
    "    # Get the NA counts per column, then create a sorting filter\n",
    "    na_counts = df_bellevue.isna().sum()\n",
    "    missing_sort = na_counts.sort_values()\n",
    "\n",
    "    # Apply this to the dataframe, then return a list of columns names\n",
    "    df_bellevue = df_bellevue[missing_sort.index]\n",
    "    cols = df_bellevue.columns.tolist()\n",
    "    print(\"Missing gender data was stored as ?, g, or h. These have been replaced with NaN\")\n",
    "    return cols\n",
    "\n",
    "task_1()\n"
   ]
  },
  {
   "cell_type": "code",
   "execution_count": 38,
   "id": "9266d19f",
   "metadata": {},
   "outputs": [
    {
     "data": {
      "text/html": [
       "<div>\n",
       "<style scoped>\n",
       "    .dataframe tbody tr th:only-of-type {\n",
       "        vertical-align: middle;\n",
       "    }\n",
       "\n",
       "    .dataframe tbody tr th {\n",
       "        vertical-align: top;\n",
       "    }\n",
       "\n",
       "    .dataframe thead th {\n",
       "        text-align: right;\n",
       "    }\n",
       "</style>\n",
       "<table border=\"1\" class=\"dataframe\">\n",
       "  <thead>\n",
       "    <tr style=\"text-align: right;\">\n",
       "      <th></th>\n",
       "      <th>year</th>\n",
       "      <th>total_admissions</th>\n",
       "    </tr>\n",
       "  </thead>\n",
       "  <tbody>\n",
       "    <tr>\n",
       "      <th>0</th>\n",
       "      <td>1846</td>\n",
       "      <td>3073</td>\n",
       "    </tr>\n",
       "    <tr>\n",
       "      <th>1</th>\n",
       "      <td>1847</td>\n",
       "      <td>6511</td>\n",
       "    </tr>\n",
       "  </tbody>\n",
       "</table>\n",
       "</div>"
      ],
      "text/plain": [
       "   year  total_admissions\n",
       "0  1846              3073\n",
       "1  1847              6511"
      ]
     },
     "execution_count": 38,
     "metadata": {},
     "output_type": "execute_result"
    }
   ],
   "source": [
    "def task_2():\n",
    "    \"\"\"\n",
    "    This function returns a dataframe with two columns: year and count.\n",
    "    The year column contains the years found in the date_in column of the \n",
    "    dataset, and the count column contains the number of entries for each year.\n",
    "    The years had to be extracted from the date_in column first.\n",
    "    They were stored in YYYY-MM-DD format, so we extracted the year using pandas.\n",
    "    \n",
    "\n",
    "    Arguments:\n",
    "    - None\n",
    "\n",
    "    Returns:\n",
    "    - A dataframe with two columns: year and count.\n",
    "    \n",
    "    \"\"\"\n",
    "    # Load the dataset\n",
    "    url = 'https://github.com/melaniewalsh/Intro-Cultural-Analytics/raw/master/book/data/bellevue_almshouse_modified.csv'\n",
    "    df_bellevue = pd.read_csv(url)\n",
    "\n",
    "    # Get the years in the date_in column\n",
    "    df_bellevue['date_in'] = pd.to_datetime(df_bellevue['date_in'], errors='coerce')\n",
    "\n",
    "    # Count the number of entries for each year\n",
    "    year_counts = df_bellevue['date_in'].dt.year.value_counts().sort_index()\n",
    "\n",
    "    # Return as a dataframe\n",
    "    year_df = pd.DataFrame({\n",
    "        \"year\": year_counts.index,\n",
    "        \"total_admissions\": year_counts.values\n",
    "    })\n",
    "    return(year_df)\n",
    "\n",
    "task_2()\n",
    "\n",
    "\n",
    "\n"
   ]
  }
 ],
 "metadata": {
  "kernelspec": {
   "display_name": "base",
   "language": "python",
   "name": "python3"
  },
  "language_info": {
   "codemirror_mode": {
    "name": "ipython",
    "version": 3
   },
   "file_extension": ".py",
   "mimetype": "text/x-python",
   "name": "python",
   "nbconvert_exporter": "python",
   "pygments_lexer": "ipython3",
   "version": "3.11.11"
  }
 },
 "nbformat": 4,
 "nbformat_minor": 5
}
